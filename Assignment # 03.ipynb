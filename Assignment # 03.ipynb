{
 "cells": [
  {
   "cell_type": "code",
   "execution_count": 1,
   "metadata": {
    "collapsed": false
   },
   "outputs": [
    {
     "name": "stdout",
     "output_type": "stream",
     "text": [
      "Twinkle, twinkle, little star,\n",
      "                How I wonder what you are!\n",
      "                             Up above the world so high,\n",
      "                             Like a diamond in the sky.\n",
      "Twinkle, twinkle, little star,\n",
      "                How I wonder what you are!\n"
     ]
    }
   ],
   "source": [
    "print('''Twinkle, twinkle, little star,                     #Question # 01\n",
    "                How I wonder what you are!\n",
    "                             Up above the world so high,\n",
    "                             Like a diamond in the sky.\n",
    "Twinkle, twinkle, little star,\n",
    "                How I wonder what you are!''')"
   ]
  },
  {
   "cell_type": "code",
   "execution_count": 2,
   "metadata": {
    "collapsed": false
   },
   "outputs": [
    {
     "name": "stdout",
     "output_type": "stream",
     "text": [
      "Python version\n",
      "3.8.10 (default, Sep 28 2021, 16:10:42) \n",
      "[GCC 9.3.0]\n",
      "Version info.\n",
      "sys.version_info(major=3, minor=8, micro=10, releaselevel='final', serial=0)\n"
     ]
    }
   ],
   "source": [
    "import sys                                                #Question # 02\n",
    "print(\"Python version\")\n",
    "print (sys.version)\n",
    "print(\"Version info.\")\n",
    "print (sys.version_info)"
   ]
  },
  {
   "cell_type": "code",
   "execution_count": 3,
   "metadata": {
    "collapsed": false
   },
   "outputs": [
    {
     "name": "stdout",
     "output_type": "stream",
     "text": [
      "Current date and time : \n",
      "2021-10-24 18:56:51\n"
     ]
    }
   ],
   "source": [
    "import datetime                                          #Question # 03\n",
    "now = datetime.datetime.now()\n",
    "print (\"Current date and time : \")\n",
    "print (now.strftime(\"%Y-%m-%d %H:%M:%S\"))\n"
   ]
  },
  {
   "cell_type": "code",
   "execution_count": 4,
   "metadata": {
    "cocalc": {
     "outputs": {
      "0": {
       "name": "input",
       "opts": {
        "password": false,
        "prompt": "Enter radius of circle : "
       },
       "output_type": "stream",
       "value": "7"
      }
     }
    },
    "collapsed": false
   },
   "outputs": [
    {
     "name": "stdout",
     "output_type": "stream",
     "text": "Enter radius of circle :  7"
    },
    {
     "name": "stdout",
     "output_type": "stream",
     "text": [
      "The area of the circle with radius 7.0 is: 153.93804002589985\n"
     ]
    }
   ],
   "source": [
    "from math import pi                                      #Question # 04\n",
    "r = float(input (\"Enter radius of circle : \"))\n",
    "print (\"The area of the circle with radius \" + str(r) + \" is: \" + str(pi * r**2))"
   ]
  },
  {
   "cell_type": "code",
   "execution_count": 5,
   "metadata": {
    "cocalc": {
     "outputs": {
      "0": {
       "name": "input",
       "opts": {
        "password": false,
        "prompt": "Enter your First Name : "
       },
       "output_type": "stream",
       "value": "Amber"
      },
      "1": {
       "name": "input",
       "opts": {
        "password": false,
        "prompt": "Enter your Last Name : "
       },
       "output_type": "stream",
       "value": "Younus"
      }
     }
    },
    "collapsed": false
   },
   "outputs": [
    {
     "name": "stdout",
     "output_type": "stream",
     "text": "Enter your First Name :  Amber"
    },
    {
     "name": "stdout",
     "output_type": "stream",
     "text": "Enter your Last Name :  Younus"
    },
    {
     "name": "stdout",
     "output_type": "stream",
     "text": [
      "Hello  Younus Amber\n"
     ]
    }
   ],
   "source": [
    "                                                         #Question # 05\n",
    "fname = input(\"Enter your First Name : \")\n",
    "lname = input(\"Enter your Last Name : \")\n",
    "print (\"Hello  \" + lname + \" \" + fname)\n"
   ]
  },
  {
   "cell_type": "code",
   "execution_count": 7,
   "metadata": {
    "cocalc": {
     "outputs": {
      "0": {
       "name": "input",
       "opts": {
        "password": false,
        "prompt": "Enter first number: "
       },
       "output_type": "stream",
       "value": "9"
      },
      "1": {
       "name": "input",
       "opts": {
        "password": false,
        "prompt": "Enter second number: "
       },
       "output_type": "stream",
       "value": "91"
      }
     }
    },
    "collapsed": false
   },
   "outputs": [
    {
     "name": "stdout",
     "output_type": "stream",
     "text": "Enter first number:  9"
    },
    {
     "name": "stdout",
     "output_type": "stream",
     "text": "Enter second number:  91"
    },
    {
     "name": "stdout",
     "output_type": "stream",
     "text": [
      "sum: 100\n"
     ]
    }
   ],
   "source": [
    "a = int(input(\"Enter first number: \"))                   #Question # 06\n",
    "b = int(input(\"Enter second number: \"))\n",
    "sum = a + b\n",
    "print(\"sum:\", sum)"
   ]
  },
  {
   "cell_type": "code",
   "execution_count": 13,
   "metadata": {
    "cocalc": {
     "outputs": {
      "0": {
       "name": "input",
       "opts": {
        "password": false,
        "prompt": "Enter English Marks : "
       },
       "output_type": "stream",
       "value": "88"
      },
      "1": {
       "name": "input",
       "opts": {
        "password": false,
        "prompt": "Enter Maths Marks : "
       },
       "output_type": "stream",
       "value": "98"
      },
      "2": {
       "name": "input",
       "opts": {
        "password": false,
        "prompt": "Enter Islamiat Marks : "
       },
       "output_type": "stream",
       "value": "79"
      },
      "3": {
       "name": "input",
       "opts": {
        "password": false,
        "prompt": "Enter GK Marks : "
       },
       "output_type": "stream",
       "value": "91"
      },
      "4": {
       "name": "input",
       "opts": {
        "password": false,
        "prompt": "Enter Urdu Marks : "
       },
       "output_type": "stream",
       "value": "85"
      }
     }
    },
    "collapsed": false
   },
   "outputs": [
    {
     "name": "stdout",
     "output_type": "stream",
     "text": "Enter English Marks :  88"
    },
    {
     "name": "stdout",
     "output_type": "stream",
     "text": "Enter Maths Marks :  98"
    },
    {
     "name": "stdout",
     "output_type": "stream",
     "text": "Enter Islamiat Marks :  79"
    },
    {
     "name": "stdout",
     "output_type": "stream",
     "text": "Enter GK Marks :  91"
    },
    {
     "name": "stdout",
     "output_type": "stream",
     "text": "Enter Urdu Marks :  85"
    },
    {
     "name": "stdout",
     "output_type": "stream",
     "text": [
      "Total Marks Obtained= 443 out of 500\n",
      " Percentage= 88.6\n",
      "Grade A+\n"
     ]
    }
   ],
   "source": [
    "Eng = int(input (\"Enter English Marks : \"))              #Question # 07\n",
    "Maths = int(input (\"Enter Maths Marks : \"))\n",
    "Isl = int(input (\"Enter Islamiat Marks : \"))\n",
    "GK = int(input (\"Enter GK Marks : \"))\n",
    "Urdu = int(input (\"Enter Urdu Marks : \"))\n",
    "total_marks = 500\n",
    "marks_obtained = Eng + Math + Isl + GK + Urdu\n",
    "\n",
    "percentage = marks_obtained / total_marks * 100\n",
    "print (\"Total Marks Obtained=\",marks_obtained,\"out of 500\")\n",
    "print (\" Percentage=\" ,percentage)\n",
    "if(percentage > 80 and percentage < 100):\n",
    "           print (\"Grade A+\")\n",
    "elif( percentage >70 and percentage < 80):\n",
    "           print (\"Grade A\")\n",
    "elif( percentage > 60 and percentage < 70):\n",
    "           print (\"Grade B\")\n",
    "elif( percentage > 50 and percentage < 60):\n",
    "           print (\"Grade C\")\n",
    "elif( percentage > 40 and percentage < 50):\n",
    "           print (\"Grade C\")\n",
    "else:\n",
    "           print(\"Failed\")"
   ]
  },
  {
   "cell_type": "code",
   "execution_count": 14,
   "metadata": {
    "cocalc": {
     "outputs": {
      "0": {
       "name": "input",
       "opts": {
        "password": false,
        "prompt": "Enter a number: "
       },
       "output_type": "stream",
       "value": "9"
      }
     }
    },
    "collapsed": false
   },
   "outputs": [
    {
     "name": "stdout",
     "output_type": "stream",
     "text": "Enter a number:  9"
    },
    {
     "name": "stdout",
     "output_type": "stream",
     "text": [
      "9 is Odd\n"
     ]
    }
   ],
   "source": [
    "num = int(input(\"Enter a number: \"))                  #Question # 08\n",
    "if (num % 2) == 0:\n",
    "   print(\"{0} is Even\".format(num))\n",
    "else:\n",
    "   print(\"{0} is Odd\".format(num))\n"
   ]
  },
  {
   "cell_type": "code",
   "execution_count": 15,
   "metadata": {
    "collapsed": false
   },
   "outputs": [
    {
     "name": "stdout",
     "output_type": "stream",
     "text": [
      "The length of the list is: 4\n"
     ]
    }
   ],
   "source": [
    "Car = [\"Ferrari\", \"Lamborghini \", \"Porsche\", \"Jensen\"] #Question # 09\n",
    "print(\"The length of the list is:\", len(Car))"
   ]
  },
  {
   "cell_type": "code",
   "execution_count": 21,
   "metadata": {
    "collapsed": false
   },
   "outputs": [
    {
     "ename": "TypeError",
     "evalue": "int() argument must be a string, a bytes-like object or a number, not 'list'",
     "output_type": "error",
     "traceback": [
      "\u001b[0;31m---------------------------------------------------------------------------\u001b[0m",
      "\u001b[0;31mTypeError\u001b[0m                                 Traceback (most recent call last)",
      "\u001b[0;32m/tmp/ipykernel_1431/1452333642.py\u001b[0m in \u001b[0;36m<module>\u001b[0;34m\u001b[0m\n\u001b[1;32m      1\u001b[0m \u001b[0mlist1\u001b[0m \u001b[0;34m=\u001b[0m \u001b[0;34m[\u001b[0m\u001b[0;36m11\u001b[0m\u001b[0;34m,\u001b[0m \u001b[0;36m5\u001b[0m\u001b[0;34m,\u001b[0m \u001b[0;36m17\u001b[0m\u001b[0;34m,\u001b[0m \u001b[0;36m18\u001b[0m\u001b[0;34m,\u001b[0m \u001b[0;36m23\u001b[0m\u001b[0;34m]\u001b[0m\u001b[0;34m\u001b[0m\u001b[0;34m\u001b[0m\u001b[0m\n\u001b[0;32m----> 2\u001b[0;31m \u001b[0mtotal\u001b[0m \u001b[0;34m=\u001b[0m \u001b[0mint\u001b[0m\u001b[0;34m(\u001b[0m\u001b[0mlist1\u001b[0m\u001b[0;34m)\u001b[0m\u001b[0;34m\u001b[0m\u001b[0;34m\u001b[0m\u001b[0m\n\u001b[0m\u001b[1;32m      3\u001b[0m \u001b[0mtotal1\u001b[0m \u001b[0;34m=\u001b[0m \u001b[0msum\u001b[0m\u001b[0;34m(\u001b[0m\u001b[0mtotal\u001b[0m\u001b[0;34m)\u001b[0m\u001b[0;34m\u001b[0m\u001b[0;34m\u001b[0m\u001b[0m\n\u001b[1;32m      4\u001b[0m \u001b[0mprint\u001b[0m\u001b[0;34m(\u001b[0m\u001b[0;34m\" The Sum of all numeric items in given list: \"\u001b[0m\u001b[0;34m,\u001b[0m \u001b[0mtotal\u001b[0m\u001b[0;34m)\u001b[0m\u001b[0;34m\u001b[0m\u001b[0;34m\u001b[0m\u001b[0m\n",
      "\u001b[0;31mTypeError\u001b[0m: int() argument must be a string, a bytes-like object or a number, not 'list'"
     ]
    }
   ],
   "source": [
    "list1 = [11, 5, 17, 18, 23]                            #Question # 10\n",
    "total = int(list1)\n",
    "total1 = sum(total)\n",
    "print(\" The Sum of all numeric items in given list: \", total)"
   ]
  },
  {
   "cell_type": "code",
   "execution_count": 25,
   "metadata": {
    "collapsed": false
   },
   "outputs": [
    {
     "name": "stdout",
     "output_type": "stream",
     "text": [
      "Largest element is: 145\n"
     ]
    }
   ],
   "source": [
    "list1 = [10, 20, 40, 145, 99]                         #Question # 11\n",
    "\n",
    "print(\"Largest element is:\", max(list1))"
   ]
  },
  {
   "cell_type": "code",
   "execution_count": 27,
   "metadata": {
    "collapsed": false
   },
   "outputs": [
    {
     "name": "stdout",
     "output_type": "stream",
     "text": [
      "1\n",
      "1\n",
      "2\n",
      "3\n"
     ]
    }
   ],
   "source": [
    "a=[1,1,2,3,5,8,13,21,34,55,89]                        #Question # 12\n",
    "for i in a:\n",
    "    if i < 5:\n",
    "        print(i)\n"
   ]
  },
  {
   "cell_type": "code",
   "execution_count": 0,
   "metadata": {
    "collapsed": false
   },
   "outputs": [
   ],
   "source": [
   ]
  }
 ],
 "metadata": {
  "kernelspec": {
   "display_name": "Python 3 (system-wide)",
   "language": "python",
   "metadata": {
    "cocalc": {
     "description": "Python 3 programming language",
     "priority": 100,
     "url": "https://www.python.org/"
    }
   },
   "name": "python3",
   "resource_dir": "/ext/jupyter/kernels/python3"
  },
  "language_info": {
   "codemirror_mode": {
    "name": "ipython",
    "version": 3
   },
   "file_extension": ".py",
   "mimetype": "text/x-python",
   "name": "python",
   "nbconvert_exporter": "python",
   "pygments_lexer": "ipython3",
   "version": "3.8.10"
  }
 },
 "nbformat": 4,
 "nbformat_minor": 4
}